{
 "cells": [
  {
   "cell_type": "code",
   "execution_count": 2,
   "metadata": {
    "collapsed": false
   },
   "outputs": [],
   "source": [
    "import pandas as pd\n",
    "from pymongo import MongoClient\n",
    "import numpy as np\n",
    "import scipy.sparse as  sps\n",
    "import scipy.io as io\n",
    "# import blogpost_data_source"
   ]
  },
  {
   "cell_type": "code",
   "execution_count": 3,
   "metadata": {
    "collapsed": false
   },
   "outputs": [],
   "source": [
    "host = 'localhost'\n",
    "port = '27017'\n",
    "db = 'alizeh'\n",
    "client = MongoClient('mongodb://localhost:27017/')\n",
    "dbCursor = client['alizeh']\n",
    "mediumClient = client['medium']\n",
    "cursor = dbCursor['user_activity'].find({},{'blogpost_id':1, 'rating':1, 'user_id':1,'_id':0})\n",
    "df =  pd.DataFrame(list(cursor))\n",
    "\n",
    "\n",
    "# db = client.database_name\n",
    "# collection = db.collection_name\n",
    "# data = pd.DataFrame(list(collection.find()))"
   ]
  },
  {
   "cell_type": "code",
   "execution_count": 4,
   "metadata": {
    "collapsed": false
   },
   "outputs": [],
   "source": [
    "# pd.isna(df['rating'])\n",
    "# df[df['visited_post'][] != 'NaN']"
   ]
  },
  {
   "cell_type": "code",
   "execution_count": 5,
   "metadata": {
    "collapsed": false
   },
   "outputs": [
    {
     "name": "stdout",
     "output_type": "stream",
     "text": [
      "(9253, 3)\n",
      "    blogpost_id  rating                   user_id\n",
      "0  140b4bf94d9f     2.0  5acb783dab23ba134d0580c8\n",
      "1  33a063e8b147     5.0  5acb783dab23ba134d0580c8\n",
      "2  f74463ed54ee     5.0  5acb783dab23ba134d0580c8\n",
      "3  aa8325c6145f     1.0  5acb783dab23ba134d0580c8\n",
      "4  bd4b418f3cfb     5.0  5acb783dab23ba134d0580c8\n"
     ]
    }
   ],
   "source": [
    "extracted_df = df[['blogpost_id', 'rating', 'user_id']].copy()\n",
    "extracted_df.dropna(axis=0, inplace=True)\n",
    "print(extracted_df.shape)\n",
    "print(extracted_df.head())"
   ]
  },
  {
   "cell_type": "code",
   "execution_count": 6,
   "metadata": {
    "collapsed": false
   },
   "outputs": [],
   "source": [
    "# extracted_df.set_index(['user_id', 'blogpost_id'], inplace=True)\n",
    "# extracted_df\n",
    "# extracted_df[extracted_df.index.labels[1] < 0]"
   ]
  },
  {
   "cell_type": "code",
   "execution_count": 7,
   "metadata": {
    "collapsed": false
   },
   "outputs": [],
   "source": [
    "# spsMat = sps.coo_matrix((extracted_df.rating,((extracted_df.index.labels[0], extracted_df.index.labels[1]))))\n",
    "# spsMat.todense()\n",
    "# io.mmwrite('test123',spsMat)\n",
    "# max(extracted_df.index.labels[0]) #user_id\n",
    "# max(extracted_df.index.labels[1]) #blog_id"
   ]
  },
  {
   "cell_type": "code",
   "execution_count": 8,
   "metadata": {
    "collapsed": false
   },
   "outputs": [],
   "source": [
    "# def generateBlogIdXTags():\n",
    "#     for _ in extracted_df.index.levels[0]:\n",
    "mediumCursor = mediumClient['post'].aggregate([{\n",
    "    '$project': {'_id':0, 'blogpost_id':'$value.id', 'tags':'$value.virtuals.tags.slug'}\n",
    "    }])\n",
    "\n",
    "df_post_x_tags =  pd.DataFrame(list(mediumCursor))\n",
    "# spsTags = sps.coo_matrix((temp.one,(temp.index.labels[0], temp.index.labels[1])))\n",
    "# generateBlogIdXTags()"
   ]
  },
  {
   "cell_type": "code",
   "execution_count": null,
   "metadata": {
    "collapsed": true
   },
   "outputs": [],
   "source": []
  },
  {
   "cell_type": "code",
   "execution_count": 9,
   "metadata": {
    "collapsed": false
   },
   "outputs": [
    {
     "data": {
      "text/html": [
       "<div>\n",
       "<style scoped>\n",
       "    .dataframe tbody tr th:only-of-type {\n",
       "        vertical-align: middle;\n",
       "    }\n",
       "\n",
       "    .dataframe tbody tr th {\n",
       "        vertical-align: top;\n",
       "    }\n",
       "\n",
       "    .dataframe thead th {\n",
       "        text-align: right;\n",
       "    }\n",
       "</style>\n",
       "<table border=\"1\" class=\"dataframe\">\n",
       "  <thead>\n",
       "    <tr style=\"text-align: right;\">\n",
       "      <th></th>\n",
       "      <th>blogpost_id</th>\n",
       "      <th>tags</th>\n",
       "    </tr>\n",
       "  </thead>\n",
       "  <tbody>\n",
       "    <tr>\n",
       "      <th>0</th>\n",
       "      <td>d8833b94bc05</td>\n",
       "      <td>[life-hacking, time-tracking, lifelogging, lif...</td>\n",
       "    </tr>\n",
       "    <tr>\n",
       "      <th>1</th>\n",
       "      <td>6558eedcf0c1</td>\n",
       "      <td>[]</td>\n",
       "    </tr>\n",
       "    <tr>\n",
       "      <th>3</th>\n",
       "      <td>93ebd727e182</td>\n",
       "      <td>[lean-startup, startup, startup-lessons, mvp, ...</td>\n",
       "    </tr>\n",
       "    <tr>\n",
       "      <th>5</th>\n",
       "      <td>9862438d4720</td>\n",
       "      <td>[]</td>\n",
       "    </tr>\n",
       "    <tr>\n",
       "      <th>6</th>\n",
       "      <td>a2e17b407e1d</td>\n",
       "      <td>[tech, accelerator, techstars, incubator, know...</td>\n",
       "    </tr>\n",
       "  </tbody>\n",
       "</table>\n",
       "</div>"
      ],
      "text/plain": [
       "    blogpost_id                                               tags\n",
       "0  d8833b94bc05  [life-hacking, time-tracking, lifelogging, lif...\n",
       "1  6558eedcf0c1                                                 []\n",
       "3  93ebd727e182  [lean-startup, startup, startup-lessons, mvp, ...\n",
       "5  9862438d4720                                                 []\n",
       "6  a2e17b407e1d  [tech, accelerator, techstars, incubator, know..."
      ]
     },
     "execution_count": 9,
     "metadata": {},
     "output_type": "execute_result"
    }
   ],
   "source": [
    "df_post_x_tags.head()\n",
    "df_post_x_tags.dropna(axis=0, inplace=True)\n",
    "df_post_x_tags.shape\n",
    "df_post_x_tags.head()"
   ]
  },
  {
   "cell_type": "code",
   "execution_count": 10,
   "metadata": {
    "collapsed": false
   },
   "outputs": [
    {
     "data": {
      "text/html": [
       "<div>\n",
       "<style scoped>\n",
       "    .dataframe tbody tr th:only-of-type {\n",
       "        vertical-align: middle;\n",
       "    }\n",
       "\n",
       "    .dataframe tbody tr th {\n",
       "        vertical-align: top;\n",
       "    }\n",
       "\n",
       "    .dataframe thead th {\n",
       "        text-align: right;\n",
       "    }\n",
       "</style>\n",
       "<table border=\"1\" class=\"dataframe\">\n",
       "  <thead>\n",
       "    <tr style=\"text-align: right;\">\n",
       "      <th></th>\n",
       "      <th>blogpost_id</th>\n",
       "      <th>rating</th>\n",
       "      <th>user_id</th>\n",
       "    </tr>\n",
       "  </thead>\n",
       "  <tbody>\n",
       "    <tr>\n",
       "      <th>0</th>\n",
       "      <td>140b4bf94d9f</td>\n",
       "      <td>2.0</td>\n",
       "      <td>5acb783dab23ba134d0580c8</td>\n",
       "    </tr>\n",
       "    <tr>\n",
       "      <th>1</th>\n",
       "      <td>33a063e8b147</td>\n",
       "      <td>5.0</td>\n",
       "      <td>5acb783dab23ba134d0580c8</td>\n",
       "    </tr>\n",
       "    <tr>\n",
       "      <th>2</th>\n",
       "      <td>f74463ed54ee</td>\n",
       "      <td>5.0</td>\n",
       "      <td>5acb783dab23ba134d0580c8</td>\n",
       "    </tr>\n",
       "    <tr>\n",
       "      <th>3</th>\n",
       "      <td>aa8325c6145f</td>\n",
       "      <td>1.0</td>\n",
       "      <td>5acb783dab23ba134d0580c8</td>\n",
       "    </tr>\n",
       "    <tr>\n",
       "      <th>4</th>\n",
       "      <td>bd4b418f3cfb</td>\n",
       "      <td>5.0</td>\n",
       "      <td>5acb783dab23ba134d0580c8</td>\n",
       "    </tr>\n",
       "  </tbody>\n",
       "</table>\n",
       "</div>"
      ],
      "text/plain": [
       "    blogpost_id  rating                   user_id\n",
       "0  140b4bf94d9f     2.0  5acb783dab23ba134d0580c8\n",
       "1  33a063e8b147     5.0  5acb783dab23ba134d0580c8\n",
       "2  f74463ed54ee     5.0  5acb783dab23ba134d0580c8\n",
       "3  aa8325c6145f     1.0  5acb783dab23ba134d0580c8\n",
       "4  bd4b418f3cfb     5.0  5acb783dab23ba134d0580c8"
      ]
     },
     "execution_count": 10,
     "metadata": {},
     "output_type": "execute_result"
    }
   ],
   "source": [
    "extracted_df.head()"
   ]
  },
  {
   "cell_type": "code",
   "execution_count": 11,
   "metadata": {
    "collapsed": false
   },
   "outputs": [],
   "source": [
    "# temprows = []\n",
    "# extracted_df.apply(lambda row:[temprows.append([str(row['blogpost_id']), row['rating'], str(row['user_id'])])], axis=1)\n",
    "# extracted_df = pd.DataFrame(temprows, columns=extracted_df.columns)\n",
    "# extracted_df.head()\n",
    "# temprows = []\n",
    "# df_post_x_tags.apply(lambda row:[temprows.append([str(row['blogpost_id']), row['tags']])], axis=1)\n",
    "# df_post_x_tags = pd.DataFrame(temprows, columns=df_post_x_tags.columns)\n",
    "# df_post_x_tags.head()"
   ]
  },
  {
   "cell_type": "code",
   "execution_count": 12,
   "metadata": {
    "collapsed": false
   },
   "outputs": [],
   "source": [
    "extracted_df['matches'] =  extracted_df['blogpost_id'].isin(df_post_x_tags['blogpost_id'])\n",
    "extracted_df['matches'].unique()\n",
    "extracted_df.drop(['matches'], axis=1, inplace=True)"
   ]
  },
  {
   "cell_type": "code",
   "execution_count": 13,
   "metadata": {
    "collapsed": false
   },
   "outputs": [
    {
     "name": "stdout",
     "output_type": "stream",
     "text": [
      "(18241, 4)\n"
     ]
    },
    {
     "data": {
      "text/html": [
       "<div>\n",
       "<style scoped>\n",
       "    .dataframe tbody tr th:only-of-type {\n",
       "        vertical-align: middle;\n",
       "    }\n",
       "\n",
       "    .dataframe tbody tr th {\n",
       "        vertical-align: top;\n",
       "    }\n",
       "\n",
       "    .dataframe thead th {\n",
       "        text-align: right;\n",
       "    }\n",
       "</style>\n",
       "<table border=\"1\" class=\"dataframe\">\n",
       "  <thead>\n",
       "    <tr style=\"text-align: right;\">\n",
       "      <th></th>\n",
       "      <th>blogpost_id</th>\n",
       "      <th>tags</th>\n",
       "      <th>rating</th>\n",
       "      <th>user_id</th>\n",
       "    </tr>\n",
       "  </thead>\n",
       "  <tbody>\n",
       "    <tr>\n",
       "      <th>14</th>\n",
       "      <td>1fe04ad83f6e</td>\n",
       "      <td>[react, rails, browserify, integrate-reactjs, ...</td>\n",
       "      <td>3.0</td>\n",
       "      <td>5acb783eab23ba134d05829e</td>\n",
       "    </tr>\n",
       "    <tr>\n",
       "      <th>21</th>\n",
       "      <td>ab448906c4e1</td>\n",
       "      <td>[javascript, es6, web-development]</td>\n",
       "      <td>3.0</td>\n",
       "      <td>5acb783dab23ba134d0580ca</td>\n",
       "    </tr>\n",
       "    <tr>\n",
       "      <th>22</th>\n",
       "      <td>ab448906c4e1</td>\n",
       "      <td>[javascript, es6, web-development]</td>\n",
       "      <td>5.0</td>\n",
       "      <td>5acb783eab23ba134d05811d</td>\n",
       "    </tr>\n",
       "    <tr>\n",
       "      <th>23</th>\n",
       "      <td>e2ba3920f313</td>\n",
       "      <td>[javascript, es6, ruby]</td>\n",
       "      <td>5.0</td>\n",
       "      <td>5acb783eab23ba134d05821b</td>\n",
       "    </tr>\n",
       "    <tr>\n",
       "      <th>27</th>\n",
       "      <td>52419f47d2a3</td>\n",
       "      <td>[javascript, nodejs, frp, rxjs]</td>\n",
       "      <td>3.0</td>\n",
       "      <td>5acb783dab23ba134d0580f4</td>\n",
       "    </tr>\n",
       "  </tbody>\n",
       "</table>\n",
       "</div>"
      ],
      "text/plain": [
       "     blogpost_id                                               tags  rating  \\\n",
       "14  1fe04ad83f6e  [react, rails, browserify, integrate-reactjs, ...     3.0   \n",
       "21  ab448906c4e1                 [javascript, es6, web-development]     3.0   \n",
       "22  ab448906c4e1                 [javascript, es6, web-development]     5.0   \n",
       "23  e2ba3920f313                            [javascript, es6, ruby]     5.0   \n",
       "27  52419f47d2a3                    [javascript, nodejs, frp, rxjs]     3.0   \n",
       "\n",
       "                     user_id  \n",
       "14  5acb783eab23ba134d05829e  \n",
       "21  5acb783dab23ba134d0580ca  \n",
       "22  5acb783eab23ba134d05811d  \n",
       "23  5acb783eab23ba134d05821b  \n",
       "27  5acb783dab23ba134d0580f4  "
      ]
     },
     "execution_count": 13,
     "metadata": {},
     "output_type": "execute_result"
    }
   ],
   "source": [
    "joined = df_post_x_tags.merge(extracted_df,left_on='blogpost_id', right_on='blogpost_id',how='left')\n",
    "# extracted_df.set_index('blogpost_id', 'user_id').join(df_post_x_tags.set_index('blogpost_id'))\n",
    "print(joined.shape)\n",
    "joined.dropna(axis=0, inplace=True)\n",
    "joined.head()"
   ]
  },
  {
   "cell_type": "code",
   "execution_count": 14,
   "metadata": {
    "collapsed": false
   },
   "outputs": [
    {
     "data": {
      "text/html": [
       "<div>\n",
       "<style scoped>\n",
       "    .dataframe tbody tr th:only-of-type {\n",
       "        vertical-align: middle;\n",
       "    }\n",
       "\n",
       "    .dataframe tbody tr th {\n",
       "        vertical-align: top;\n",
       "    }\n",
       "\n",
       "    .dataframe thead th {\n",
       "        text-align: right;\n",
       "    }\n",
       "</style>\n",
       "<table border=\"1\" class=\"dataframe\">\n",
       "  <thead>\n",
       "    <tr style=\"text-align: right;\">\n",
       "      <th></th>\n",
       "      <th></th>\n",
       "      <th>rating</th>\n",
       "    </tr>\n",
       "    <tr>\n",
       "      <th>user_id</th>\n",
       "      <th>blogpost_id</th>\n",
       "      <th></th>\n",
       "    </tr>\n",
       "  </thead>\n",
       "  <tbody>\n",
       "    <tr>\n",
       "      <th>5acb783eab23ba134d05829e</th>\n",
       "      <th>1fe04ad83f6e</th>\n",
       "      <td>3.0</td>\n",
       "    </tr>\n",
       "    <tr>\n",
       "      <th>5acb783dab23ba134d0580ca</th>\n",
       "      <th>ab448906c4e1</th>\n",
       "      <td>3.0</td>\n",
       "    </tr>\n",
       "    <tr>\n",
       "      <th>5acb783eab23ba134d05811d</th>\n",
       "      <th>ab448906c4e1</th>\n",
       "      <td>5.0</td>\n",
       "    </tr>\n",
       "    <tr>\n",
       "      <th>5acb783eab23ba134d05821b</th>\n",
       "      <th>e2ba3920f313</th>\n",
       "      <td>5.0</td>\n",
       "    </tr>\n",
       "    <tr>\n",
       "      <th>5acb783dab23ba134d0580f4</th>\n",
       "      <th>52419f47d2a3</th>\n",
       "      <td>3.0</td>\n",
       "    </tr>\n",
       "  </tbody>\n",
       "</table>\n",
       "</div>"
      ],
      "text/plain": [
       "                                       rating\n",
       "user_id                  blogpost_id         \n",
       "5acb783eab23ba134d05829e 1fe04ad83f6e     3.0\n",
       "5acb783dab23ba134d0580ca ab448906c4e1     3.0\n",
       "5acb783eab23ba134d05811d ab448906c4e1     5.0\n",
       "5acb783eab23ba134d05821b e2ba3920f313     5.0\n",
       "5acb783dab23ba134d0580f4 52419f47d2a3     3.0"
      ]
     },
     "execution_count": 14,
     "metadata": {},
     "output_type": "execute_result"
    }
   ],
   "source": [
    "\n",
    "interaction = joined[['blogpost_id', 'user_id', 'rating']].copy()\n",
    "blog_feature = joined[['blogpost_id', 'tags']].copy()\n",
    "interaction['user_id'].unique().size\n",
    "\n",
    "interaction.drop_duplicates(subset=['blogpost_id','user_id'],keep='first')\n",
    "interaction.set_index(['user_id', 'blogpost_id'], inplace=True)\n",
    "interaction.index.levels[1].size\n",
    "interaction.head()"
   ]
  },
  {
   "cell_type": "code",
   "execution_count": 15,
   "metadata": {
    "collapsed": false
   },
   "outputs": [
    {
     "data": {
      "text/plain": [
       "1844"
      ]
     },
     "execution_count": 15,
     "metadata": {},
     "output_type": "execute_result"
    }
   ],
   "source": [
    "blog_feature\n",
    "#need to unwind the tags\n",
    "temprows = []\n",
    "blog_feature.apply(lambda row:[temprows.append([row['blogpost_id'], eachTag]) for eachTag in row.tags], axis=1)\n",
    "blog_feature = pd.DataFrame(temprows, columns=blog_feature.columns)\n",
    "blog_feature['tags'].unique().size"
   ]
  },
  {
   "cell_type": "code",
   "execution_count": 16,
   "metadata": {
    "collapsed": false
   },
   "outputs": [
    {
     "data": {
      "text/html": [
       "<div>\n",
       "<style scoped>\n",
       "    .dataframe tbody tr th:only-of-type {\n",
       "        vertical-align: middle;\n",
       "    }\n",
       "\n",
       "    .dataframe tbody tr th {\n",
       "        vertical-align: top;\n",
       "    }\n",
       "\n",
       "    .dataframe thead th {\n",
       "        text-align: right;\n",
       "    }\n",
       "</style>\n",
       "<table border=\"1\" class=\"dataframe\">\n",
       "  <thead>\n",
       "    <tr style=\"text-align: right;\">\n",
       "      <th></th>\n",
       "      <th></th>\n",
       "      <th>match</th>\n",
       "    </tr>\n",
       "    <tr>\n",
       "      <th>blogpost_id</th>\n",
       "      <th>tags</th>\n",
       "      <th></th>\n",
       "    </tr>\n",
       "  </thead>\n",
       "  <tbody>\n",
       "    <tr>\n",
       "      <th rowspan=\"5\" valign=\"top\">1fe04ad83f6e</th>\n",
       "      <th>react</th>\n",
       "      <td>1</td>\n",
       "    </tr>\n",
       "    <tr>\n",
       "      <th>rails</th>\n",
       "      <td>1</td>\n",
       "    </tr>\n",
       "    <tr>\n",
       "      <th>browserify</th>\n",
       "      <td>1</td>\n",
       "    </tr>\n",
       "    <tr>\n",
       "      <th>integrate-reactjs</th>\n",
       "      <td>1</td>\n",
       "    </tr>\n",
       "    <tr>\n",
       "      <th>rails-application</th>\n",
       "      <td>1</td>\n",
       "    </tr>\n",
       "  </tbody>\n",
       "</table>\n",
       "</div>"
      ],
      "text/plain": [
       "                                match\n",
       "blogpost_id  tags                    \n",
       "1fe04ad83f6e react                  1\n",
       "             rails                  1\n",
       "             browserify             1\n",
       "             integrate-reactjs      1\n",
       "             rails-application      1"
      ]
     },
     "execution_count": 16,
     "metadata": {},
     "output_type": "execute_result"
    }
   ],
   "source": [
    "blog_feature['match'] = 1\n",
    "blog_feature.set_index(['blogpost_id','tags'], inplace=True)\n",
    "blog_feature.index.levels[1]\n",
    "# sps.csr_matrix((blog_feature['match'],(blog_feature.index.labels[0], blog_feature.index.labels[1]))).shape\n",
    "# scrBlogFeature = sps.csr_matrix(blog_feature.values)\n",
    "# scrBlogFeature\n",
    "blog_feature.head()"
   ]
  },
  {
   "cell_type": "code",
   "execution_count": 17,
   "metadata": {
    "collapsed": false
   },
   "outputs": [
    {
     "data": {
      "text/plain": [
       "(43857, 1)"
      ]
     },
     "execution_count": 17,
     "metadata": {},
     "output_type": "execute_result"
    }
   ],
   "source": [
    "blog_feature.shape"
   ]
  },
  {
   "cell_type": "code",
   "execution_count": 18,
   "metadata": {
    "collapsed": false
   },
   "outputs": [
    {
     "data": {
      "text/plain": [
       "(478, 1844)"
      ]
     },
     "execution_count": 18,
     "metadata": {},
     "output_type": "execute_result"
    }
   ],
   "source": [
    "spsInteraction = sps.coo_matrix((interaction.rating,((interaction.index.labels[0], interaction.index.labels[1]))))\n",
    "spsInteraction.shape"
   ]
  },
  {
   "cell_type": "code",
   "execution_count": 19,
   "metadata": {
    "collapsed": false
   },
   "outputs": [],
   "source": [
    "scrBlogTags = sps.csr_matrix((blog_feature['match'],(blog_feature.index.labels[0], blog_feature.index.labels[1])))\n",
    "tags = blog_feature.index.levels[1]"
   ]
  },
  {
   "cell_type": "code",
   "execution_count": 20,
   "metadata": {
    "collapsed": false
   },
   "outputs": [
    {
     "data": {
      "text/plain": [
       "(1844, 1844)"
      ]
     },
     "execution_count": 20,
     "metadata": {},
     "output_type": "execute_result"
    }
   ],
   "source": [
    "scrBlogTags.shape"
   ]
  },
  {
   "cell_type": "code",
   "execution_count": 21,
   "metadata": {
    "collapsed": false
   },
   "outputs": [
    {
     "data": {
      "text/plain": [
       "(358, 1844)"
      ]
     },
     "execution_count": 21,
     "metadata": {},
     "output_type": "execute_result"
    }
   ],
   "source": [
    "from sklearn.model_selection import train_test_split\n",
    "train, test = train_test_split(spsInteraction,test_size=0.25)\n",
    "train.shape"
   ]
  },
  {
   "cell_type": "code",
   "execution_count": 22,
   "metadata": {
    "collapsed": false
   },
   "outputs": [
    {
     "name": "stdout",
     "output_type": "stream",
     "text": [
      "CPU times: user 514 ms, sys: 659 µs, total: 514 ms\n",
      "Wall time: 231 ms\n"
     ]
    },
    {
     "data": {
      "text/plain": [
       "<lightfm.lightfm.LightFM at 0x7f7904022990>"
      ]
     },
     "execution_count": 22,
     "metadata": {},
     "output_type": "execute_result"
    }
   ],
   "source": [
    "from lightfm import LightFM\n",
    "model = LightFM(loss='warp')\n",
    "%time model.fit(spsInteraction,item_features=scrBlogTags, epochs=15, num_threads=3)"
   ]
  },
  {
   "cell_type": "code",
   "execution_count": 23,
   "metadata": {
    "collapsed": false
   },
   "outputs": [
    {
     "data": {
      "text/plain": [
       "numpy.ndarray"
      ]
     },
     "execution_count": 23,
     "metadata": {},
     "output_type": "execute_result"
    }
   ],
   "source": [
    "type(model.item_embeddings)"
   ]
  },
  {
   "cell_type": "code",
   "execution_count": 24,
   "metadata": {
    "collapsed": false
   },
   "outputs": [
    {
     "data": {
      "text/plain": [
       "array(1844)"
      ]
     },
     "execution_count": 24,
     "metadata": {},
     "output_type": "execute_result"
    }
   ],
   "source": [
    "np.array(interaction.index.levels[1].size)"
   ]
  },
  {
   "cell_type": "code",
   "execution_count": 25,
   "metadata": {
    "collapsed": false
   },
   "outputs": [
    {
     "name": "stdout",
     "output_type": "stream",
     "text": [
      "Index([u'cameras', u'version-control', u'sql-injection', u'amazon-go',\n",
      "       u'miami'],\n",
      "      dtype='object', name=u'tags')\n"
     ]
    }
   ],
   "source": [
    "scores = model.predict(0, np.arange(interaction.index.levels[1].size),item_features=scrBlogTags) # user_id, \n",
    "top_items = tags[np.argsort(-scores)]\n",
    "top_items_score = scores[np.argsort(-scores)]\n",
    "print(top_items[0:5])"
   ]
  },
  {
   "cell_type": "code",
   "execution_count": 26,
   "metadata": {
    "collapsed": false
   },
   "outputs": [
    {
     "data": {
      "text/html": [
       "<div>\n",
       "<style scoped>\n",
       "    .dataframe tbody tr th:only-of-type {\n",
       "        vertical-align: middle;\n",
       "    }\n",
       "\n",
       "    .dataframe tbody tr th {\n",
       "        vertical-align: top;\n",
       "    }\n",
       "\n",
       "    .dataframe thead th {\n",
       "        text-align: right;\n",
       "    }\n",
       "</style>\n",
       "<table border=\"1\" class=\"dataframe\">\n",
       "  <thead>\n",
       "    <tr style=\"text-align: right;\">\n",
       "      <th></th>\n",
       "      <th>score</th>\n",
       "      <th>top_items</th>\n",
       "    </tr>\n",
       "  </thead>\n",
       "  <tbody>\n",
       "    <tr>\n",
       "      <th>0</th>\n",
       "      <td>4.003980e+12</td>\n",
       "      <td>cameras</td>\n",
       "    </tr>\n",
       "    <tr>\n",
       "      <th>1</th>\n",
       "      <td>3.434297e+11</td>\n",
       "      <td>version-control</td>\n",
       "    </tr>\n",
       "    <tr>\n",
       "      <th>2</th>\n",
       "      <td>3.891410e+10</td>\n",
       "      <td>sql-injection</td>\n",
       "    </tr>\n",
       "    <tr>\n",
       "      <th>3</th>\n",
       "      <td>2.659171e+10</td>\n",
       "      <td>amazon-go</td>\n",
       "    </tr>\n",
       "    <tr>\n",
       "      <th>4</th>\n",
       "      <td>2.655106e+10</td>\n",
       "      <td>miami</td>\n",
       "    </tr>\n",
       "  </tbody>\n",
       "</table>\n",
       "</div>"
      ],
      "text/plain": [
       "          score        top_items\n",
       "0  4.003980e+12          cameras\n",
       "1  3.434297e+11  version-control\n",
       "2  3.891410e+10    sql-injection\n",
       "3  2.659171e+10        amazon-go\n",
       "4  2.655106e+10            miami"
      ]
     },
     "execution_count": 26,
     "metadata": {},
     "output_type": "execute_result"
    }
   ],
   "source": [
    "pd.DataFrame(data={'top_items': top_items[0:5], 'score': top_items_score[0:5]})"
   ]
  },
  {
   "cell_type": "code",
   "execution_count": 27,
   "metadata": {
    "collapsed": false
   },
   "outputs": [
    {
     "name": "stdout",
     "output_type": "stream",
     "text": [
      "CPU times: user 894 µs, sys: 0 ns, total: 894 µs\n",
      "Wall time: 594 µs\n"
     ]
    }
   ],
   "source": [
    "%time blogs_user_wud_like = interaction.index.levels[1][np.argsort(-scrBlogTags.dot(top_items_score))]"
   ]
  },
  {
   "cell_type": "code",
   "execution_count": 28,
   "metadata": {
    "collapsed": false
   },
   "outputs": [
    {
     "data": {
      "text/plain": [
       "Index([u'b0051fbd5622', u'86c7ced839a5', u'16d9eb86309c', u'b7a5a5549655',\n",
       "       u'e8ad2eb406c5'],\n",
       "      dtype='object', name=u'blogpost_id')"
      ]
     },
     "execution_count": 28,
     "metadata": {},
     "output_type": "execute_result"
    }
   ],
   "source": [
    "blogs_user_wud_like[0:5]"
   ]
  },
  {
   "cell_type": "code",
   "execution_count": null,
   "metadata": {
    "collapsed": true
   },
   "outputs": [],
   "source": []
  }
 ],
 "metadata": {
  "anaconda-cloud": {},
  "kernelspec": {
   "display_name": "Python [conda env:lightfm]",
   "language": "python",
   "name": "conda-env-lightfm-py"
  },
  "language_info": {
   "codemirror_mode": {
    "name": "ipython",
    "version": 2
   },
   "file_extension": ".py",
   "mimetype": "text/x-python",
   "name": "python",
   "nbconvert_exporter": "python",
   "pygments_lexer": "ipython2",
   "version": "2.7.15"
  }
 },
 "nbformat": 4,
 "nbformat_minor": 1
}
